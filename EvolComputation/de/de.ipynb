{
 "cells": [
  {
   "cell_type": "code",
   "execution_count": null,
   "metadata": {},
   "outputs": [],
   "source": [
    "%matplotlib nbagg"
   ]
  },
  {
   "cell_type": "markdown",
   "metadata": {},
   "source": [
    "# DE(Differential Evolution)"
   ]
  },
  {
   "cell_type": "code",
   "execution_count": null,
   "metadata": {},
   "outputs": [],
   "source": [
    "import numpy as np\n",
    "import matplotlib.pyplot as plt\n",
    "import matplotlib.animation as animation\n",
    "from copy import deepcopy\n",
    "from plot import graph_plot\n",
    "from plot import dots_anim_plot"
   ]
  },
  {
   "cell_type": "markdown",
   "metadata": {},
   "source": [
    "## 目的関数"
   ]
  },
  {
   "cell_type": "code",
   "execution_count": null,
   "metadata": {},
   "outputs": [],
   "source": [
    "def sphere_func(x: list):\n",
    "    return sum([val ** 2 for val in x])\n",
    "\n",
    "def rastrign_func(x: list):\n",
    "    return sum([val ** 2 - 10 * np.cos(2 * np.pi * val) + 10 for val in x])"
   ]
  },
  {
   "cell_type": "markdown",
   "metadata": {},
   "source": [
    "## DE method"
   ]
  },
  {
   "cell_type": "code",
   "execution_count": null,
   "metadata": {},
   "outputs": [],
   "source": [
    "def de(func, M: int=30, D: int=5, cr: float=0.9, fw: float=0.5,\n",
    "       tmax: int=1000, fend: float=1e-5, xmin: int=-5, xmax: int=5):\n",
    "    \"\"\"\n",
    "    @param M <int> : 粒子数\n",
    "    @param D <int> : 解の次元数\n",
    "    @param cr <float> : DEのパラメータ\n",
    "    @param fw <float> : DEのパラメータ\n",
    "    @param tmax <int> : 最大試行回数\n",
    "    @param xmin <int> : 初期値の最小値\n",
    "    @param xmax <int> : 初期値の最大値\n",
    "    遺伝的アルゴリズムのうちの差分進化の実装\n",
    "    \"\"\" \n",
    "\n",
    "    # 初期化処理\n",
    "    # 位置\n",
    "    x = (xmin - xmax) * np.random.rand(M, D) + xmax\n",
    "    xnew = np.zeros((M, D))\n",
    "    # 更新に利用するパラメータ\n",
    "    v = np.zeros(D)\n",
    "    u = np.zeros(D)\n",
    "    # 解の評価値関数\n",
    "    f = np.zeros(M)\n",
    "    # 目的関数の値\n",
    "    ftmp = 0\n",
    "    xbest = np.zeros(D)\n",
    "    fbest = float(\"inf\")\n",
    "    xs = []\n",
    "    fs = []\n",
    "    \n",
    "    # 関数の初期値の終了\n",
    "    for i in range(M):\n",
    "        f[i] = func(x[i])\n",
    "        fbest = f[i] if f[i] < fbest else fbest\n",
    "    \n",
    "    # 実行\n",
    "    for t in range(tmax):\n",
    "        for i in range(M):\n",
    "            # iを除く3つの位置を取得\n",
    "            randvec = np.random.randint(0, M, 3)\n",
    "            while i in randvec:\n",
    "                randvec = np.random.randint(0, M, 3)\n",
    "            # 突然変異\n",
    "            v = x[randvec[0]] + fw * (x[randvec[1]] - x[randvec[2]])\n",
    "            # 交叉\n",
    "            for j in range(D):\n",
    "                rj = np.random.rand()\n",
    "                u[j] = v[j] if rj <= cr else x[i][j]\n",
    "            # 1つだけはvを採用することを保証\n",
    "            j = np.random.randint(0, D)\n",
    "            u[j] = v[j]\n",
    "            # uの評価関数の計算\n",
    "            ftmp = func(u)\n",
    "            # uを採用するかどうかの判定\n",
    "            if ftmp < f[i]:\n",
    "                f[i] = ftmp\n",
    "                x[i] = u\n",
    "                fbest = ftmp\n",
    "                xbest = x[i]\n",
    "            else:\n",
    "                xnew[i] = x[i]\n",
    "        # xの更新\n",
    "        x = xnew\n",
    "        # xとfの保持\n",
    "        xs.append(deepcopy(x))\n",
    "        fs.append(fbest)\n",
    "        # 終了条件を満たしたとき\n",
    "        if fbest < fend:\n",
    "            break\n",
    "        else:\n",
    "            pass\n",
    "            # print(fbest)\n",
    "            # print(xbest)\n",
    "            \n",
    "    return t + 2, fbest, xbest, fs, xs"
   ]
  },
  {
   "cell_type": "code",
   "execution_count": null,
   "metadata": {},
   "outputs": [],
   "source": [
    "t, f, x, fs, xs = de(sphere_func)\n",
    "dots_anim_plot(xs)\n",
    "graph_plot(t, fs)"
   ]
  },
  {
   "cell_type": "code",
   "execution_count": null,
   "metadata": {},
   "outputs": [],
   "source": [
    "de(rastrign_func)"
   ]
  }
 ],
 "metadata": {
  "kernelspec": {
   "display_name": "Python 3",
   "language": "python",
   "name": "python3"
  },
  "language_info": {
   "codemirror_mode": {
    "name": "ipython",
    "version": 3
   },
   "file_extension": ".py",
   "mimetype": "text/x-python",
   "name": "python",
   "nbconvert_exporter": "python",
   "pygments_lexer": "ipython3",
   "version": "3.6.0"
  }
 },
 "nbformat": 4,
 "nbformat_minor": 2
}
