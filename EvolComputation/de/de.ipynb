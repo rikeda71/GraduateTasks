{
 "cells": [
  {
   "cell_type": "code",
   "execution_count": null,
   "metadata": {},
   "outputs": [],
   "source": [
    "%matplotlib nbagg"
   ]
  },
  {
   "cell_type": "markdown",
   "metadata": {},
   "source": [
    "# DE(Differential Evolution)"
   ]
  },
  {
   "cell_type": "code",
   "execution_count": null,
   "metadata": {},
   "outputs": [],
   "source": [
    "import numpy as np\n",
    "import matplotlib.pyplot as plt\n",
    "import matplotlib.animation as animation\n",
    "from copy import deepcopy\n",
    "from plot import graph_plot\n",
    "from plot import dots_anim_plot"
   ]
  },
  {
   "cell_type": "markdown",
   "metadata": {},
   "source": [
    "## 目的関数"
   ]
  },
  {
   "cell_type": "code",
   "execution_count": null,
   "metadata": {},
   "outputs": [],
   "source": [
    "def sphere_func(x: list):\n",
    "    return sum([val ** 2 for val in x])\n",
    "\n",
    "def rastrigin_func(x: list):\n",
    "    return sum([val ** 2 - 10 * np.cos(2 * np.pi * val) + 10 for val in x])"
   ]
  },
  {
   "cell_type": "markdown",
   "metadata": {},
   "source": [
    "## DE method"
   ]
  },
  {
   "cell_type": "code",
   "execution_count": null,
   "metadata": {},
   "outputs": [],
   "source": [
    "def de(func, M: int=30, D: int=5, cr: float=0.9, fw: float=0.5,\n",
    "       tmax: int=1000, fend: float=1e-5, xmin: int=-5, xmax: int=5):\n",
    "    \"\"\"\n",
    "    @param M <int> : 粒子数\n",
    "    @param D <int> : 解の次元数\n",
    "    @param cr <float> : DEのパラメータ\n",
    "    @param fw <float> : DEのパラメータ\n",
    "    @param tmax <int> : 最大試行回数\n",
    "    @param xmin <int> : 初期値の最小値\n",
    "    @param xmax <int> : 初期値の最大値\n",
    "    遺伝的アルゴリズムのうちの差分進化の実装\n",
    "    \"\"\" \n",
    "\n",
    "    # 初期化処理\n",
    "    # 位置\n",
    "    x = (xmin - xmax) * np.random.rand(M, D) + xmax\n",
    "    xnew = np.zeros((M, D))\n",
    "    # 更新に利用するパラメータ\n",
    "    v = np.zeros(D)\n",
    "    u = np.zeros(D)\n",
    "    # 解の評価値関数\n",
    "    f = np.zeros(M)\n",
    "    # 目的関数の値\n",
    "    ftmp = 0\n",
    "    xbest = np.zeros(D)\n",
    "    fbest = float(\"inf\")\n",
    "    xs = []\n",
    "    fs = []\n",
    "    m_numbers = range(M)    \n",
    "    \n",
    "    # 関数の初期値\n",
    "    for i in range(M):\n",
    "        f[i] = func(x[i])\n",
    "        fbest = f[i] if f[i] < fbest else fbest\n",
    "    \n",
    "    # 実行\n",
    "    for t in range(tmax):\n",
    "        for i in range(M):\n",
    "            # iを除く3つの位置を取得\n",
    "            randvec = np.random.choice(m_numbers, 3, replace=False)\n",
    "            while i in randvec:\n",
    "                randvec = np.random.choice(m_numbers, 3, replace=False)\n",
    "            # 突然変異\n",
    "            v = x[randvec[0]] + fw * (x[randvec[1]] - x[randvec[2]])\n",
    "            # 1つだけはvを採用することを保証\n",
    "            jr = np.random.randint(0, D)\n",
    "            # 交叉\n",
    "            for j in range(D):\n",
    "                rj = np.random.rand()\n",
    "                # u[j] = v[j] if rj < cr or jr == j else x[i][j]\n",
    "                if rj < cr or jr == j:\n",
    "                    u[j] = v[j]\n",
    "                else:\n",
    "                    u[j] = x[i][j]\n",
    "            # uの評価関数の計算\n",
    "            ftmp = func(u)\n",
    "            # uを採用するかどうかの判定\n",
    "            if ftmp < f[i]:\n",
    "                f[i] = ftmp\n",
    "                xnew[i] = u\n",
    "                if ftmp < fbest:\n",
    "                    fbest = ftmp\n",
    "                    xbest = x[i]\n",
    "            else:\n",
    "                xnew[i] = x[i]\n",
    "        # xの更新\n",
    "        x = xnew\n",
    "        # xとfの保持\n",
    "        xs.append(deepcopy(x))\n",
    "        fs.append(fbest)\n",
    "        # 終了条件を満たしたとき\n",
    "        if fbest < fend:\n",
    "            break\n",
    "            \n",
    "    return t + 1, fbest, xbest, fs, xs"
   ]
  },
  {
   "cell_type": "markdown",
   "metadata": {},
   "source": [
    "### 動作テスト＋可視化"
   ]
  },
  {
   "cell_type": "code",
   "execution_count": null,
   "metadata": {},
   "outputs": [],
   "source": [
    "t, f, x, fs, xs = de(sphere_func, D=2)\n",
    "dots_anim_plot(xs)\n",
    "graph_plot(t, fs)"
   ]
  },
  {
   "cell_type": "markdown",
   "metadata": {},
   "source": [
    "### 実験(100回実行)"
   ]
  },
  {
   "cell_type": "code",
   "execution_count": null,
   "metadata": {},
   "outputs": [],
   "source": [
    "sphere2 = [de(func=sphere_func, D=2) for _ in range(100)]\n",
    "rastrigin2 = [de(func=rastrigin_func, D=2) for _ in range(100)]\n",
    "sphere5 = [de(func=sphere_func, D=5) for _ in range(100)]\n",
    "rastrigin5 = [de(func=rastrigin_func, D=5) for _ in range(100)]\n",
    "sphere20 = [de(func=sphere_func, D=20) for _ in range(100)]\n",
    "rastrigin20 = [de(func=rastrigin_func, D=20) for _ in range(100)]"
   ]
  },
  {
   "cell_type": "code",
   "execution_count": null,
   "metadata": {},
   "outputs": [],
   "source": [
    "sphere2_time = [s[0] for s in sphere2]\n",
    "sphere2_result = [s[1] for s in sphere2]\n",
    "sphere5_time = [s[0] for s in sphere5]\n",
    "sphere5_result = [s[1] for s in sphere5]\n",
    "sphere20_time = [s[0] for s in sphere20]\n",
    "sphere20_result = [s[1] for s in sphere20]\n",
    "\n",
    "rastrigin2_time = [r[0] for r in rastrigin2]\n",
    "rastrigin2_result = [r[1] for r in rastrigin2]\n",
    "rastrigin5_time = [r[0] for r in rastrigin5]\n",
    "rastrigin5_result = [r[1] for r in rastrigin5]\n",
    "rastrigin20_time = [r[0] for r in rastrigin20]\n",
    "rastrigin20_result = [r[1] for r in rastrigin20]"
   ]
  },
  {
   "cell_type": "code",
   "execution_count": null,
   "metadata": {},
   "outputs": [],
   "source": [
    "sphere2_time_mean = np.mean(sphere2_time)\n",
    "sphere2_result_mean = np.mean(sphere2_result)\n",
    "sphere2_result_var = np.var(sphere2_result)\n",
    "sphere5_time_mean = np.mean(sphere5_time)\n",
    "sphere5_result_mean = np.mean(sphere5_result)\n",
    "sphere5_result_var = np.var(sphere5_result)\n",
    "sphere20_time_mean = np.mean(sphere20_time)\n",
    "sphere20_result_mean = np.mean(sphere20_result)\n",
    "sphere20_result_var = np.var(sphere20_result)\n",
    "\n",
    "rastrigin2_time_mean = np.mean(rastrigin2_time)\n",
    "rastrigin2_result_mean = np.mean(rastrigin2_result)\n",
    "rastrigin2_result_var = np.var(rastrigin2_result)\n",
    "rastrigin5_time_mean = np.mean(rastrigin5_time)\n",
    "rastrigin5_result_mean = np.mean(rastrigin5_result)\n",
    "rastrigin5_result_var = np.var(rastrigin5_result)\n",
    "rastrigin20_time_mean = np.mean(rastrigin20_time)\n",
    "rastrigin20_result_mean = np.mean(rastrigin20_result)\n",
    "rastrigin20_result_var = np.var(rastrigin20_result)"
   ]
  },
  {
   "cell_type": "code",
   "execution_count": null,
   "metadata": {},
   "outputs": [],
   "source": [
    "print(sphere2_result_mean, sphere2_result_var, sphere2_time_mean)\n",
    "print(rastrigin2_result_mean, rastrigin2_result_var, rastrigin2_time_mean)\n",
    "print(sphere5_result_mean, sphere5_result_var, sphere5_time_mean)\n",
    "print(rastrigin5_result_mean, rastrigin5_result_var, rastrigin5_time_mean)\n",
    "print(sphere20_result_mean, sphere20_result_var, sphere20_time_mean)\n",
    "print(rastrigin20_result_mean, rastrigin20_result_var, rastrigin20_time_mean)"
   ]
  },
  {
   "cell_type": "code",
   "execution_count": null,
   "metadata": {},
   "outputs": [],
   "source": []
  }
 ],
 "metadata": {
  "kernelspec": {
   "display_name": "Python 3",
   "language": "python",
   "name": "python3"
  },
  "language_info": {
   "codemirror_mode": {
    "name": "ipython",
    "version": 3
   },
   "file_extension": ".py",
   "mimetype": "text/x-python",
   "name": "python",
   "nbconvert_exporter": "python",
   "pygments_lexer": "ipython3",
   "version": "3.6.0"
  }
 },
 "nbformat": 4,
 "nbformat_minor": 2
}
