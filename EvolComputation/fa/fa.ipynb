{
 "cells": [
  {
   "cell_type": "code",
   "execution_count": null,
   "metadata": {},
   "outputs": [],
   "source": [
    "%matplotlib nbagg"
   ]
  },
  {
   "cell_type": "markdown",
   "metadata": {},
   "source": [
    "# FA(Firefly Algorithm)"
   ]
  },
  {
   "cell_type": "code",
   "execution_count": null,
   "metadata": {},
   "outputs": [],
   "source": [
    "import numpy as np\n",
    "import matplotlib.pyplot as plt\n",
    "import matplotlib.animation as animation\n",
    "from copy import deepcopy\n",
    "from plot import graph_plot\n",
    "from plot import dots_anim_plot"
   ]
  },
  {
   "cell_type": "markdown",
   "metadata": {},
   "source": [
    "## 目的関数"
   ]
  },
  {
   "cell_type": "code",
   "execution_count": null,
   "metadata": {},
   "outputs": [],
   "source": [
    "def sphere_func(x: list):\n",
    "    return sum([val ** 2 for val in x])\n",
    "\n",
    "def rastrign_func(x: list):\n",
    "    return sum([val ** 2 - 10 * np.cos(2 * np.pi * val) + 10 for val in x])"
   ]
  },
  {
   "cell_type": "markdown",
   "metadata": {},
   "source": [
    "## FA method"
   ]
  },
  {
   "cell_type": "code",
   "execution_count": null,
   "metadata": {},
   "outputs": [],
   "source": [
    "def fa(func, M: int=30, D: int=5, tmax: int=1000,\n",
    "       fend: float=1e-5, xmin: int=-5, xmax: int=5):\n",
    "    \"\"\"\n",
    "    @param M <int> : 粒子数\n",
    "    @param D <int> : 解の次元数\n",
    "    @param tmax <int> : 最大試行回数\n",
    "    @param fend <float> : 終了条件\n",
    "    @param xmin <int> : 初期値の最小値\n",
    "    @param xmax <int> : 初期値の最大値\n",
    "    遺伝的アルゴリズムのうちの差分進化の実装\n",
    "    \"\"\" \n",
    "\n",
    "    # 初期化処理\n",
    "    # FAのパラメータ\n",
    "    betamin = 0.2\n",
    "    alpha0 = 0.5\n",
    "    alpha = 0\n",
    "    L = np.fabs(xmax - xmin) / 2\n",
    "    gamma = 1 / np.sqrt(L)\n",
    "    # 位置\n",
    "    x = (xmin - xmax) * np.random.rand(M, D) + xmax\n",
    "    xnew = np.zeros((M, D))\n",
    "    # 解の評価値関数\n",
    "    f = np.zeros(M)\n",
    "    I = np.zeros(M)\n",
    "    # 目的関数の値\n",
    "    xbest = np.zeros(D)\n",
    "    fbest = float(\"inf\")\n",
    "    rij = float(\"inf\")\n",
    "    # その他のパラメータ\n",
    "    cnt = 0\n",
    "    k = 0\n",
    "    # 可視化用\n",
    "    xs = []\n",
    "    fs = []\n",
    "    \n",
    "    # 関数の初期値の終了\n",
    "    for i in range(M):\n",
    "        f[i] = func(x[i])\n",
    "        fbest = f[i] if f[i] < fbest else fbest\n",
    "    \n",
    "    # 実行\n",
    "    # ソートをかけて光強度が低い順にすすめていく\n",
    "    for t in range(tmax):\n",
    "        # aの更新\n",
    "        alpha = alpha0 * ((10e-4 / 0.9) ** ((t + 1) / tmax))\n",
    "        e = (np.random.rand() - 0.5) * L\n",
    "        xnew = deepcopy(x)\n",
    "        for i in range(M):\n",
    "            f[i] = func(x[i])\n",
    "            I[i] = 1 / f[i]\n",
    "        \n",
    "        tmp = list(zip(I, xnew))\n",
    "        I, xnew = zip(*sorted(tmp, key=lambda x:x[0], reverse=True))\n",
    "        I = np.array(I)\n",
    "        xnew = np.array(xnew)\n",
    "        for i in range(M):\n",
    "            if i == 0:\n",
    "                k = i\n",
    "                for l in range(D):\n",
    "                    xnew[k][l] += alpha * e\n",
    "                continue\n",
    "            for j in range(1, i):\n",
    "                rij = np.linalg.norm(xnew[i] - x[j])\n",
    "                beta = (1 - betamin) * np.exp(-1 * gamma * (rij ** 2)) + betamin\n",
    "                # xnew[i] += beta * (x[j] - xnew[i]) + alpha * e\n",
    "                for l in range(D):\n",
    "                    xnew[i][l] += beta * (x[j][l] - xnew[i][l]) + alpha * e\n",
    "\n",
    "        # 現在の最適解よりもいい解なら\n",
    "        if f[k] < fbest:\n",
    "            fbest = f[k]\n",
    "            xbest = x[k]\n",
    "        # 可視化用にパラメータを保持\n",
    "        xs.append(deepcopy(xnew))\n",
    "        fs.append(fbest)\n",
    "        # 終了条件を満たしていたら\n",
    "        if fbest < fend:\n",
    "            break\n",
    "        # ホタルの位置情報を更新\n",
    "        x = deepcopy(xnew)\n",
    "    return t + 1, fbest, xbest, fs, xs"
   ]
  },
  {
   "cell_type": "code",
   "execution_count": null,
   "metadata": {},
   "outputs": [],
   "source": [
    "fa(sphere_func)"
   ]
  },
  {
   "cell_type": "code",
   "execution_count": null,
   "metadata": {},
   "outputs": [],
   "source": [
    "t, f, x, fs, xs = fa(sphere_func)\n",
    "dots_anim_plot(xs)\n",
    "graph_plot(t, fs)"
   ]
  },
  {
   "cell_type": "code",
   "execution_count": null,
   "metadata": {},
   "outputs": [],
   "source": [
    "de(rastrign_func)"
   ]
  },
  {
   "cell_type": "code",
   "execution_count": null,
   "metadata": {},
   "outputs": [],
   "source": [
    "xs[100][1]"
   ]
  }
 ],
 "metadata": {
  "kernelspec": {
   "display_name": "Python 3",
   "language": "python",
   "name": "python3"
  },
  "language_info": {
   "codemirror_mode": {
    "name": "ipython",
    "version": 3
   },
   "file_extension": ".py",
   "mimetype": "text/x-python",
   "name": "python",
   "nbconvert_exporter": "python",
   "pygments_lexer": "ipython3",
   "version": "3.6.0"
  }
 },
 "nbformat": 4,
 "nbformat_minor": 2
}
