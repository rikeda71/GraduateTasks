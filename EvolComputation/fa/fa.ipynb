{
 "cells": [
  {
   "cell_type": "code",
   "execution_count": null,
   "metadata": {},
   "outputs": [],
   "source": [
    "%matplotlib nbagg"
   ]
  },
  {
   "cell_type": "markdown",
   "metadata": {},
   "source": [
    "# FA(Firefly Algorithm)"
   ]
  },
  {
   "cell_type": "code",
   "execution_count": null,
   "metadata": {},
   "outputs": [],
   "source": [
    "import numpy as np\n",
    "import matplotlib.pyplot as plt\n",
    "import matplotlib.animation as animation\n",
    "from copy import deepcopy\n",
    "from plot import graph_plot\n",
    "from plot import dots_anim_plot"
   ]
  },
  {
   "cell_type": "markdown",
   "metadata": {},
   "source": [
    "## 目的関数"
   ]
  },
  {
   "cell_type": "code",
   "execution_count": null,
   "metadata": {},
   "outputs": [],
   "source": [
    "def sphere_func(x: list):\n",
    "    return sum([val ** 2 for val in x])\n",
    "\n",
    "def rastrigin_func(x: list):\n",
    "    return sum([val ** 2 - 10 * np.cos(2 * np.pi * val) + 10 for val in x])"
   ]
  },
  {
   "cell_type": "markdown",
   "metadata": {},
   "source": [
    "## FA method"
   ]
  },
  {
   "cell_type": "code",
   "execution_count": null,
   "metadata": {},
   "outputs": [],
   "source": [
    "def fa(func, M: int=30, D: int=5, tmax: int=1000,\n",
    "       fend: float=1e-5, xmin: int=-5, xmax: int=5,\n",
    "       sortver: bool=True):\n",
    "    \"\"\"\n",
    "    @param M <int> : 粒子数\n",
    "    @param D <int> : 解の次元数\n",
    "    @param tmax <int> : 最大試行回数\n",
    "    @param fend <float> : 終了条件\n",
    "    @param xmin <int> : 初期値の最小値\n",
    "    @param xmax <int> : 初期値の最大値\n",
    "    @param sortver <bool> : ソートするかどうか\n",
    "    ホタルアルゴリズムの実装\n",
    "    \"\"\" \n",
    "\n",
    "    # 初期化処理\n",
    "    # FAのパラメータ\n",
    "    betamin = 0.2\n",
    "    alpha0 = 0.5\n",
    "    alpha = 0\n",
    "    L = np.fabs(xmax - xmin) / 2\n",
    "    gamma = 1 / np.sqrt(L)\n",
    "    # 位置\n",
    "    x = (xmin - xmax) * np.random.rand(M, D) + xmax\n",
    "    xnew = np.zeros((M, D))\n",
    "    # 解の評価値関数\n",
    "    f = np.zeros(M)\n",
    "    I = np.zeros(M)\n",
    "    # 目的関数の値\n",
    "    xbest = np.zeros(D)\n",
    "    fbest = float(\"inf\")\n",
    "    rij = float(\"inf\")\n",
    "    # その他のパラメータ\n",
    "    k = 0\n",
    "    # 可視化用\n",
    "    xs = []\n",
    "    fs = []\n",
    "    \n",
    "    # 関数の初期値の終了\n",
    "    for i in range(M):\n",
    "        f[i] = func(x[i])\n",
    "        fbest = f[i] if f[i] < fbest else fbest\n",
    "    \n",
    "    # 実行\n",
    "    for t in range(tmax):\n",
    "        # aの更新\n",
    "        alpha = alpha0 * ((1e-4 / 0.9) ** ((t + 1) / tmax))\n",
    "        e = (np.random.rand() - 0.5) * L\n",
    "        xnew = deepcopy(x)\n",
    "        for i in range(M):\n",
    "            f[i] = func(x[i])\n",
    "            I[i] = 1 / f[i]\n",
    "        \n",
    "        # ソートをかけて光強度が低い順にすすめていく\n",
    "        if sortver:\n",
    "            # sort\n",
    "            k = 0\n",
    "            tmp = list(zip(I, xnew))\n",
    "            I, xnew = zip(*sorted(tmp, key=lambda a:a[0], reverse=True))\n",
    "            I = np.array(I)\n",
    "            xnew = np.array(xnew)\n",
    "            for i in range(1, M)[::-1]:\n",
    "                for j in range(0, i)[::-1]:\n",
    "                    rij = np.linalg.norm(xnew[i] - x[j])\n",
    "                    beta = (1 - betamin) * np.exp(-gamma * (rij ** 2)) + betamin\n",
    "                    for l in range(D):\n",
    "                        e = (np.random.rand() - 0.5) * L\n",
    "                        xnew[i][l] += beta * (x[j][l] - xnew[i][l]) + alpha * e\n",
    "            for l in range(D):\n",
    "                e = (np.random.rand() - 0.5) * L\n",
    "                xnew[0][l] += alpha * e\n",
    "        # 順に光強度を参照していき，強い光に惹きつけられる\n",
    "        else:\n",
    "            # normal\n",
    "            for i in range(M):\n",
    "                cnt = 0\n",
    "                for j in range(M):\n",
    "                    if I[i] < I[j]:\n",
    "                        cnt += 1\n",
    "                        rij = np.linalg.norm(xnew[i] - x[j])\n",
    "                        beta = (1 - betamin) * np.exp(-gamma * (rij ** 2)) + betamin\n",
    "                        for l in range(D):\n",
    "                            e = (np.random.rand() - 0.5) * L\n",
    "                            xnew[i][l] += beta * (x[j][l] - xnew[i][l]) + alpha * e\n",
    "                if cnt == 0:\n",
    "                    k = i\n",
    "                    for l in range(D):\n",
    "                        e = (np.random.rand() - 0.5) * L\n",
    "                        xnew[k][l] += alpha * e\n",
    "\n",
    "        # 現在の最適解よりもいい解なら\n",
    "        if f[k] < fbest:\n",
    "            fbest = f[k]\n",
    "            xbest = x[k]\n",
    "        # 可視化用にパラメータを保持\n",
    "        xs.append(xnew)\n",
    "        fs.append(fbest)\n",
    "        # 終了条件を満たしていたら\n",
    "        if fbest < fend:\n",
    "            break\n",
    "        # ホタルの位置情報を更新\n",
    "        x = deepcopy(xnew)\n",
    "        \n",
    "    return t + 1, fbest, xbest, fs, xs"
   ]
  },
  {
   "cell_type": "markdown",
   "metadata": {},
   "source": [
    "### 動作テスト＋可視化"
   ]
  },
  {
   "cell_type": "code",
   "execution_count": null,
   "metadata": {},
   "outputs": [],
   "source": [
    "a, b, c, d, e = fa(rastrigin_func, D=5, tmax=100000, M=100)\n",
    "print(a, b, c)"
   ]
  },
  {
   "cell_type": "code",
   "execution_count": null,
   "metadata": {},
   "outputs": [],
   "source": [
    "t, f, x, fs, xs = fa(sphere_func, D=2, sortver=False)\n",
    "dots_anim_plot(xs)\n",
    "graph_plot(t + 1, fs)"
   ]
  },
  {
   "cell_type": "markdown",
   "metadata": {},
   "source": [
    "### 実験(100回実行)"
   ]
  },
  {
   "cell_type": "code",
   "execution_count": null,
   "metadata": {},
   "outputs": [],
   "source": [
    "sphere2 = [fa(func=sphere_func, D=2, sortver=False) for _ in range(100)]\n",
    "rastrigin2 = [fa(func=rastrigin_func, D=2, sortver=False) for _ in range(100)]\n",
    "sphere5 = [fa(func=sphere_func, D=5, sortver=False) for _ in range(100)]\n",
    "rastrigin5 = [fa(func=rastrigin_func, D=5, sortver=False) for _ in range(100)]\n",
    "sphere20 = [fa(func=sphere_func, D=20, sortver=False) for _ in range(100)]\n",
    "rastrigin20 = [fa(func=rastrigin_func, D=20, sortver=False) for _ in range(100)]"
   ]
  },
  {
   "cell_type": "code",
   "execution_count": null,
   "metadata": {},
   "outputs": [],
   "source": [
    "sphere2_time = [s[0] for s in sphere2]\n",
    "sphere2_result = [s[1] for s in sphere2]\n",
    "sphere5_time = [s[0] for s in sphere5]\n",
    "sphere5_result = [s[1] for s in sphere5]\n",
    "sphere20_time = [s[0] for s in sphere20]\n",
    "sphere20_result = [s[1] for s in sphere20]\n",
    "\n",
    "rastrigin2_time = [r[0] for r in rastrigin2]\n",
    "rastrigin2_result = [r[1] for r in rastrigin2]\n",
    "rastrigin5_time = [r[0] for r in rastrigin5]\n",
    "rastrigin5_result = [r[1] for r in rastrigin5]\n",
    "rastrigin20_time = [r[0] for r in rastrigin20]\n",
    "rastrigin20_result = [r[1] for r in rastrigin20]"
   ]
  },
  {
   "cell_type": "code",
   "execution_count": null,
   "metadata": {},
   "outputs": [],
   "source": [
    "sphere2_time_mean = np.mean(sphere2_time)\n",
    "sphere2_result_mean = np.mean(sphere2_result)\n",
    "sphere2_result_var = np.var(sphere2_result)\n",
    "sphere5_time_mean = np.mean(sphere5_time)\n",
    "sphere5_result_mean = np.mean(sphere5_result)\n",
    "sphere5_result_var = np.var(sphere5_result)\n",
    "sphere20_time_mean = np.mean(sphere20_time)\n",
    "sphere20_result_mean = np.mean(sphere20_result)\n",
    "sphere20_result_var = np.var(sphere20_result)\n",
    "\n",
    "rastrigin2_time_mean = np.mean(rastrigin2_time)\n",
    "rastrigin2_result_mean = np.mean(rastrigin2_result)\n",
    "rastrigin2_result_var = np.var(rastrigin2_result)\n",
    "rastrigin5_time_mean = np.mean(rastrigin5_time)\n",
    "rastrigin5_result_mean = np.mean(rastrigin5_result)\n",
    "rastrigin5_result_var = np.var(rastrigin5_result)\n",
    "rastrigin20_time_mean = np.mean(rastrigin20_time)\n",
    "rastrigin20_result_mean = np.mean(rastrigin20_result)\n",
    "rastrigin20_result_var = np.var(rastrigin20_result)"
   ]
  },
  {
   "cell_type": "code",
   "execution_count": null,
   "metadata": {},
   "outputs": [],
   "source": [
    "print(sphere2_result_mean, sphere2_result_var, sphere2_time_mean)\n",
    "print(rastrigin2_result_mean, rastrigin2_result_var, rastrigin2_time_mean)\n",
    "print(sphere5_result_mean, sphere5_result_var, sphere5_time_mean)\n",
    "print(rastrigin5_result_mean, rastrigin5_result_var, rastrigin5_time_mean)\n",
    "print(sphere20_result_mean, sphere20_result_var, sphere20_time_mean)\n",
    "print(rastrigin20_result_mean, rastrigin20_result_var, rastrigin20_time_mean)"
   ]
  },
  {
   "cell_type": "code",
   "execution_count": null,
   "metadata": {},
   "outputs": [],
   "source": []
  }
 ],
 "metadata": {
  "kernelspec": {
   "display_name": "Python 3",
   "language": "python",
   "name": "python3"
  },
  "language_info": {
   "codemirror_mode": {
    "name": "ipython",
    "version": 3
   },
   "file_extension": ".py",
   "mimetype": "text/x-python",
   "name": "python",
   "nbconvert_exporter": "python",
   "pygments_lexer": "ipython3",
   "version": "3.6.0"
  }
 },
 "nbformat": 4,
 "nbformat_minor": 2
}
