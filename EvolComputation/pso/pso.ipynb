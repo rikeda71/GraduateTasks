{
 "cells": [
  {
   "cell_type": "code",
   "execution_count": null,
   "metadata": {},
   "outputs": [],
   "source": [
    "%matplotlib nbagg"
   ]
  },
  {
   "cell_type": "markdown",
   "metadata": {},
   "source": [
    "# PSO(Particle Swarm Optimization)"
   ]
  },
  {
   "cell_type": "code",
   "execution_count": null,
   "metadata": {},
   "outputs": [],
   "source": [
    "import numpy as np\n",
    "import matplotlib.pyplot as plt\n",
    "import matplotlib.animation as animation\n",
    "from copy import deepcopy\n",
    "from plot import graph_plot\n",
    "from plot import dots_anim_plot"
   ]
  },
  {
   "cell_type": "markdown",
   "metadata": {},
   "source": [
    "## 目的関数"
   ]
  },
  {
   "cell_type": "code",
   "execution_count": null,
   "metadata": {},
   "outputs": [],
   "source": [
    "def sphere_func(x: list):\n",
    "    return sum([val ** 2 for val in x])\n",
    "\n",
    "def rastrign_func(x: list):\n",
    "    return sum([val ** 2 - 10 * np.cos(2 * np.pi * val) + 10 for val in x])"
   ]
  },
  {
   "cell_type": "markdown",
   "metadata": {},
   "source": [
    "## PSO method"
   ]
  },
  {
   "cell_type": "code",
   "execution_count": null,
   "metadata": {},
   "outputs": [],
   "source": [
    "def pso(func, M: int=30, D: int=5, c: float=1.494, w: float=0.729,\n",
    "        tmax: int=1000, cr: float=1e-5, xmin: int=-5, xmax: int=5):\n",
    "    \"\"\"\n",
    "    param <int> M : 粒子数\n",
    "    param <int> D : 解の次元数\n",
    "    param <float> c : PSOのパラメータ\n",
    "    param <float> w : PSOのパラメータ\n",
    "    param <int> Tmax : 最大試行回数\n",
    "    param <float> Cr : 終了条件\n",
    "    param <int> Xmin : 初期値の最小値\n",
    "    param <int> Xmax : 初期値の最大値\n",
    "    return <int> : 実行ステップ数\n",
    "    return <float> : 方程式の値\n",
    "    return <np.array> : 解のリスト\n",
    "    粒子群最適化を行うメソッド\n",
    "    \"\"\"\n",
    "    \n",
    "    # 初期化処理\n",
    "    # 位置\n",
    "    x = (xmin - xmax) * np.random.rand(M, D) + xmax\n",
    "    # 速度\n",
    "    v = np.zeros((M, D))\n",
    "    # 解の評価値関数\n",
    "    f = np.zeros(M)\n",
    "    # pbest\n",
    "    fp = np.full(M, np.inf)\n",
    "    xp = np.zeros((M, D))\n",
    "    # gbest\n",
    "    fg = float(\"inf\")\n",
    "    xg = np.zeros(D)\n",
    "    # 目的関数の値\n",
    "    fpbest = float(\"inf\")\n",
    "    fgbest = float(\"inf\")\n",
    "    \n",
    "    fs = []\n",
    "    xs = []\n",
    "    \n",
    "    # 実行\n",
    "    for t in range(tmax):\n",
    "        for i in range(M):\n",
    "            f[i] = func(x[i])\n",
    "            # pbest update\n",
    "            if f[i] < fp[i]:\n",
    "                fp[i] = f[i]\n",
    "                for d in range(D):\n",
    "                    xp[i][d] = x[i][d]\n",
    "                # gbest update\n",
    "                if fp[i] < fg:\n",
    "                    xg = xp[i]\n",
    "                    fg = func(xg)\n",
    "        if fg < cr:\n",
    "            break\n",
    "        # pso update\n",
    "        for i in range(M):\n",
    "            for d in range(D):\n",
    "                r1 = np.random.rand()\n",
    "                r2 = np.random.rand()\n",
    "                v[i][d] = w * v[i][d] + c * (r1 * (xp[i][d] - x[i][d]) +  r2 * (xg[d] - x[i][d]))\n",
    "                x[i][d] = x[i][d] + v[i][d]\n",
    "        fs.append(fg)\n",
    "        xs.append(deepcopy(x))\n",
    "\n",
    "    return (t+1, fg, xg, fs, xs)"
   ]
  },
  {
   "cell_type": "code",
   "execution_count": null,
   "metadata": {
    "scrolled": false
   },
   "outputs": [],
   "source": [
    "t, f, x, fs, xs = pso(sphere_func)\n",
    "dots_anim_plot(xs)\n",
    "graph_plot(t, fs)\n",
    "print(xs)"
   ]
  }
 ],
 "metadata": {
  "kernelspec": {
   "display_name": "Python 3",
   "language": "python",
   "name": "python3"
  },
  "language_info": {
   "codemirror_mode": {
    "name": "ipython",
    "version": 3
   },
   "file_extension": ".py",
   "mimetype": "text/x-python",
   "name": "python",
   "nbconvert_exporter": "python",
   "pygments_lexer": "ipython3",
   "version": "3.6.0"
  }
 },
 "nbformat": 4,
 "nbformat_minor": 2
}
