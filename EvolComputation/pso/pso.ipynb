{
 "cells": [
  {
   "cell_type": "code",
   "execution_count": null,
   "metadata": {},
   "outputs": [],
   "source": [
    "%matplotlib nbagg"
   ]
  },
  {
   "cell_type": "markdown",
   "metadata": {},
   "source": [
    "# PSO(Particle Swarm Optimization)"
   ]
  },
  {
   "cell_type": "code",
   "execution_count": null,
   "metadata": {},
   "outputs": [],
   "source": [
    "import numpy as np\n",
    "import matplotlib.pyplot as plt\n",
    "import matplotlib.animation as animation"
   ]
  },
  {
   "cell_type": "markdown",
   "metadata": {},
   "source": [
    "## 目的関数"
   ]
  },
  {
   "cell_type": "code",
   "execution_count": null,
   "metadata": {},
   "outputs": [],
   "source": [
    "def sphere_func(x: list):\n",
    "    return sum([val ** 2 for val in x])\n",
    "\n",
    "def rastrign_func(x: list):\n",
    "    return sum([val ** 2 - 10 * np.cos(2 * np.pi * val) + 10 for val in x])"
   ]
  },
  {
   "cell_type": "markdown",
   "metadata": {},
   "source": [
    "## PSO method"
   ]
  },
  {
   "cell_type": "code",
   "execution_count": null,
   "metadata": {},
   "outputs": [],
   "source": [
    "def pso(func, M: int=30, D: int=5, c: float=1.494, w: float=0.729,\n",
    "        tmax: int=1000, cr: float=1e-5, xmin: int=-5, xmax: int=5):\n",
    "    \"\"\"\n",
    "    param <int> M : 粒子数\n",
    "    param <int> D : 解の次元数\n",
    "    param <float> c : PSOのパラメータ\n",
    "    param <float> w : PSOのパラメータ\n",
    "    param <int> Tmax : 最大試行回数\n",
    "    param <float> Cr : 終了条件\n",
    "    param <int> Xmin : 初期値の最小値\n",
    "    param <int> Xmax : 初期値の最大値\n",
    "    return <int> : 実行ステップ数\n",
    "    return <float> : 方程式の値\n",
    "    return <np.array> : 解のリスト\n",
    "    粒子群最適化を行うメソッド\n",
    "    \"\"\"\n",
    "    \n",
    "    plt.cla()\n",
    "    # 初期化処理\n",
    "    # 位置\n",
    "    x = (xmin - xmax) * np.random.rand(M, D) + xmax\n",
    "    # 速度\n",
    "    v = np.zeros((M, D))\n",
    "    # 解の評価値関数\n",
    "    f = np.zeros(M)\n",
    "    # pbest\n",
    "    fp = np.full(M, np.inf)\n",
    "    xp = np.zeros((M, D))\n",
    "    # gbest\n",
    "    fg = float(\"inf\")\n",
    "    xg = np.zeros(D)\n",
    "    # 目的関数の値\n",
    "    fpbest = float(\"inf\")\n",
    "    fgbest = float(\"inf\")\n",
    "    \n",
    "    # 可視化用の変数\n",
    "    # graphの値を保存\n",
    "    graph_vals = []\n",
    "    dot_vals = []\n",
    "    \n",
    "    # 実行\n",
    "    for t in range(tmax):\n",
    "        for i in range(M):\n",
    "            f[i] = func(x[i])\n",
    "            # pbest update\n",
    "            if f[i] < fp[i]:\n",
    "                fp[i] = f[i]\n",
    "                for d in range(D):\n",
    "                    xp[i][d] = x[i][d]\n",
    "                # gbest update\n",
    "                if fp[i] < fg:\n",
    "                    xg = xp[i]\n",
    "                    fg = func(xg)\n",
    "        if fg < cr:\n",
    "            break\n",
    "        # pso update\n",
    "        for i in range(M):\n",
    "            for d in range(D):\n",
    "                r1 = np.random.rand()\n",
    "                r2 = np.random.rand()\n",
    "                v[i][d] = w * v[i][d] + c * (r1 * (xp[i][d] - x[i][d]) +  r2 * (xg[d] - x[i][d]))\n",
    "                x[i][d] = x[i][d] + v[i][d]\n",
    "        # 関数の値を描画用に保存\n",
    "        graph_vals.append(fg)\n",
    "        dot_vals.append(xg)\n",
    "    \n",
    "    # graph_plot(graph_vals)\n",
    "    dot_plot(dot_vals)\n",
    "    return (t+1, fg, xg)"
   ]
  },
  {
   "cell_type": "code",
   "execution_count": null,
   "metadata": {},
   "outputs": [],
   "source": [
    "def graph_plot(graph_vals):\n",
    "    plt.plot(range(1, len(graph_vals)+1), graph_vals)\n",
    "    plt.xlabel(\"calc val\")\n",
    "    plt.ylabel(\"func val\") "
   ]
  },
  {
   "cell_type": "code",
   "execution_count": null,
   "metadata": {},
   "outputs": [],
   "source": [
    "def dot_plot(dot_vals):\n",
    "    imgs = [plt.scatter(dot_val, dot_val)\n",
    "            for dot_val in dot_vals] \n",
    "    fig = plt.figure()\n",
    "    ani = animation.ArtistAnimation(fig, imgs, interval=100)\n",
    "    ani.save('anim.gif', writer='imagemagick', fps=40)\n",
    "    plt.show()"
   ]
  },
  {
   "cell_type": "code",
   "execution_count": null,
   "metadata": {},
   "outputs": [],
   "source": [
    "import matplotlib\n",
    "print(matplotlib.matplotlib_fname())"
   ]
  },
  {
   "cell_type": "code",
   "execution_count": null,
   "metadata": {},
   "outputs": [],
   "source": [
    "fig = plt.figure()\n",
    "ani = animation.FuncAnimation(fig, pso(sphere_func)[2], interval=1000)\n",
    "plt.show()"
   ]
  },
  {
   "cell_type": "code",
   "execution_count": null,
   "metadata": {},
   "outputs": [],
   "source": [
    "pso(rastrign_func)"
   ]
  }
 ],
 "metadata": {
  "kernelspec": {
   "display_name": "Python 3",
   "language": "python",
   "name": "python3"
  },
  "language_info": {
   "codemirror_mode": {
    "name": "ipython",
    "version": 3
   },
   "file_extension": ".py",
   "mimetype": "text/x-python",
   "name": "python",
   "nbconvert_exporter": "python",
   "pygments_lexer": "ipython3",
   "version": "3.6.0"
  }
 },
 "nbformat": 4,
 "nbformat_minor": 2
}
